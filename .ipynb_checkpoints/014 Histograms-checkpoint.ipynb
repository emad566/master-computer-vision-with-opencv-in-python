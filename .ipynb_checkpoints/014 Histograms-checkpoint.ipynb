{
 "cells": [
  {
   "cell_type": "code",
   "execution_count": null,
   "metadata": {},
   "outputs": [],
   "source": [
    "import os \n",
    "import cv2\n",
    "import numpy as np\n",
    "\n",
    "#we need to import matplotlib to create our histogram plots\n",
    "from matplotlib import pyplot as plt\n",
    "\n",
    "image = cv2.imread('images/t.png')\n",
    "histogram = cv2.calcHist([image], [0], None, [256], [0, 256])\n",
    "\n",
    "#We plot a histogram, ravel () flatens our image array\n",
    "plt.hist(image.ravel(), 256, [0, 256])\n",
    "plt.show()\n",
    "#viewing Separate Color Channels\n",
    "color = ('b', 'g', 'r')\n",
    "\n",
    "#we now separate the colors and plot each in the Histogram\n",
    "for i, col in enumerate(color):\n",
    "    histogram2 = cv2.calcHist([image], [i], None, [256], [0, 256])\n",
    "    plt.plot(histogram2, color=col)\n",
    "    plt.xlim([0, 256])\n",
    "    \n",
    "plt.show()\n"
   ]
  }
 ],
 "metadata": {
  "celltoolbar": "Raw Cell Format",
  "kernelspec": {
   "display_name": "Python 2",
   "language": "python",
   "name": "python2"
  },
  "language_info": {
   "codemirror_mode": {
    "name": "ipython",
    "version": 2
   },
   "file_extension": ".py",
   "mimetype": "text/x-python",
   "name": "python",
   "nbconvert_exporter": "python",
   "pygments_lexer": "ipython2",
   "version": "2.7.14"
  }
 },
 "nbformat": 4,
 "nbformat_minor": 2
}
