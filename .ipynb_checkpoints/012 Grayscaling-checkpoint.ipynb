{
 "cells": [
  {
   "cell_type": "code",
   "execution_count": 3,
   "metadata": {},
   "outputs": [
    {
     "name": "stdout",
     "output_type": "stream",
     "text": [
      "C:\\Users\\emad_\n"
     ]
    }
   ],
   "source": [
    "import os\n",
    "print(os.getcwd())\n"
   ]
  },
  {
   "cell_type": "code",
   "execution_count": 3,
   "metadata": {},
   "outputs": [
    {
     "name": "stdout",
     "output_type": "stream",
     "text": [
      "(214L, 460L, 3L)\n",
      "H=  214 pixels\n",
      "W=  460 pixels\n"
     ]
    },
    {
     "data": {
      "text/plain": [
       "True"
      ]
     },
     "execution_count": 3,
     "metadata": {},
     "output_type": "execute_result"
    }
   ],
   "source": [
    "import cv2\n",
    "import numpy as np\n",
    "input = cv2.imread(\"images/t.png\", 0)\n",
    "cv2.imshow('Original', input)\n",
    "#gray_image = cv2.cvtColor(input, cv2.COLOR_RGB2GRAY)\n",
    "#cv2.imshow('grayscall', gray_image)\n",
    "cv2.waitKey()\n",
    "cv2.destroyAllWindows()\n",
    "print input.shape\n",
    "print 'H= ', int(input.shape[0]), 'pixels'\n",
    "print 'W= ', int(input.shape[1]), 'pixels'\n",
    "cv2.imwrite('images/newimg.jpg', input)"
   ]
  },
  {
   "cell_type": "code",
   "execution_count": 5,
   "metadata": {},
   "outputs": [],
   "source": [
    "\n"
   ]
  }
 ],
 "metadata": {
  "kernelspec": {
   "display_name": "Python 2",
   "language": "python",
   "name": "python2"
  },
  "language_info": {
   "codemirror_mode": {
    "name": "ipython",
    "version": 2
   },
   "file_extension": ".py",
   "mimetype": "text/x-python",
   "name": "python",
   "nbconvert_exporter": "python",
   "pygments_lexer": "ipython2",
   "version": "2.7.14"
  }
 },
 "nbformat": 4,
 "nbformat_minor": 2
}
