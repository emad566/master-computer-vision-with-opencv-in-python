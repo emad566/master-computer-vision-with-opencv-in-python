{
 "cells": [
  {
   "cell_type": "code",
   "execution_count": 8,
   "metadata": {},
   "outputs": [
    {
     "name": "stdout",
     "output_type": "stream",
     "text": [
      "(214L, 460L, 3L) 255 228 249\n",
      "(214L, 460L)\n",
      "237\n"
     ]
    }
   ],
   "source": [
    "import os\n",
    "import cv2\n",
    "import numpy as np\n",
    "image = cv2.imread('images/t.png')\n",
    "B, G, R = image[78, 156]\n",
    "print image.shape, B, G, R \n",
    "gray_img = cv2.cvtColor(image, cv2.COLOR_BGR2GRAY)\n",
    "print gray_img.shape\n",
    "S = gray_img[78, 156]\n",
    "print S\n",
    "\n",
    "cv2.waitKey(0);\n",
    "cv2.destroyAllWindows()"
   ]
  },
  {
   "cell_type": "code",
   "execution_count": 9,
   "metadata": {},
   "outputs": [],
   "source": [
    "import os\n",
    "import cv2\n",
    "import numpy as np\n",
    "image = cv2.imread('images/t.png')\n",
    "\n",
    "#Another useful color space is HSV\n",
    "HSV_img = cv2.cvtColor(image, cv2.COLOR_BGR2HSV)\n",
    "cv2.imshow('Base', image)\n",
    "\n",
    "cv2.imshow('HSV', HSV_img)\n",
    "cv2.imshow('Hue', HSV_img[:, :, 0])\n",
    "cv2.imshow('S', HSV_img[:, :, 1])\n",
    "cv2.imshow('V', HSV_img[:, :, 2])\n",
    "\n",
    "cv2.waitKey(0);\n",
    "cv2.destroyAllWindows()"
   ]
  },
  {
   "cell_type": "code",
   "execution_count": null,
   "metadata": {},
   "outputs": [],
   "source": [
    "import os\n",
    "import cv2\n",
    "import numpy as np\n",
    "image = cv2.imread('images/t.png')\n",
    "\n",
    "#---------------------------------------------------------\n",
    "#Opencv's split function splites the image into each color index\n",
    "B, G, R = cv2.split(image)\n",
    "\n",
    "print B.shape\n",
    "cv2.imshow('R', R)\n",
    "cv2.imshow('G', G)\n",
    "cv2.imshow('B', B)\n",
    "\n",
    "#---------------------------------------------------------\n",
    "#Let's us re-make original image\n",
    "merged = cv2.merge([B, G, R])\n",
    "\n",
    "cv2.imshow('merge', merged)\n",
    "\n",
    "#---------------------------------------------------------\n",
    "#Let's us re-make original image by amplifying blue\n",
    "mergedB100 = cv2.merge([B+100, G, R])\n",
    "cv2.imshow('mergedB100', mergedB100)\n",
    "\n",
    "cv2.waitKey(0);\n",
    "cv2.destroyAllWindows()"
   ]
  },
  {
   "cell_type": "code",
   "execution_count": 5,
   "metadata": {},
   "outputs": [],
   "source": [
    "import os\n",
    "import cv2\n",
    "import numpy as np\n",
    "image = cv2.imread('images/t.png')\n",
    "B, G, R = cv2.split(image)\n",
    "\n",
    "#Let's a matrix of zeros with dimensins of the image h × w\n",
    "zeros = np.zeros(image.shape[:2], dtype = \"uint8\" )\n",
    "cv2.imshow('R', cv2.merge([zeros, zeros, R ]))\n",
    "cv2.imshow('G', cv2.merge([zeros, G, zeros ]))\n",
    "cv2.imshow('B', cv2.merge([B, zeros, zeros ]))\n",
    "cv2.waitKey(0);\n",
    "cv2.destroyAllWindows()"
   ]
  }
 ],
 "metadata": {
  "kernelspec": {
   "display_name": "Python 2",
   "language": "python",
   "name": "python2"
  },
  "language_info": {
   "codemirror_mode": {
    "name": "ipython",
    "version": 2
   },
   "file_extension": ".py",
   "mimetype": "text/x-python",
   "name": "python",
   "nbconvert_exporter": "python",
   "pygments_lexer": "ipython2",
   "version": "2.7.14"
  }
 },
 "nbformat": 4,
 "nbformat_minor": 2
}
