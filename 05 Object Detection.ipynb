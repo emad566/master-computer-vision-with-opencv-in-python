{
 "cells": [
  {
   "cell_type": "markdown",
   "metadata": {},
   "source": [
    "<h1>040 Object Detection Overview</h1>\n",
    "<img src=\"images/400.jpg\" style=\"display: block; margin: 10px auto; max-width:97%;\">\n",
    "<img src=\"images/401.jpg\" style=\"display: block; margin: 10px auto; max-width:97%;\">\n",
    "<img src=\"images/402.jpg\" style=\"display: block; margin: 10px auto; max-width:97%;\">\n",
    "<img src=\"images/403.jpg\" style=\"display: block; margin: 10px auto; max-width:97%;\">\n",
    "<img src=\"images/404.jpg\" style=\"display: block; margin: 10px auto; max-width:97%;\">"
   ]
  }
 ],
 "metadata": {
  "kernelspec": {
   "display_name": "Python 2",
   "language": "python",
   "name": "python2"
  },
  "language_info": {
   "codemirror_mode": {
    "name": "ipython",
    "version": 2
   },
   "file_extension": ".py",
   "mimetype": "text/x-python",
   "name": "python",
   "nbconvert_exporter": "python",
   "pygments_lexer": "ipython2",
   "version": "2.7.14"
  }
 },
 "nbformat": 4,
 "nbformat_minor": 2
}
